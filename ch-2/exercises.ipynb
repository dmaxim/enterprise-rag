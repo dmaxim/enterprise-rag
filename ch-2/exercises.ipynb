{
 "cells": [
  {
   "cell_type": "code",
   "execution_count": 9,
   "id": "43f35a4f",
   "metadata": {},
   "outputs": [],
   "source": [
    "import os\n",
    "openai_api_key = os.getenv(\"OPENAI_API_KEY\")"
   ]
  },
  {
   "cell_type": "code",
   "execution_count": 10,
   "id": "1096ffc4",
   "metadata": {},
   "outputs": [],
   "source": [
    "import openai"
   ]
  },
  {
   "cell_type": "code",
   "execution_count": 11,
   "id": "d60bfd45",
   "metadata": {},
   "outputs": [],
   "source": [
    "evals = [\n",
    "    \"What is Underwhelming Spatula?\",\n",
    "    \"Who wrote 'Dubious Parenting Tips'?\",\n",
    "    \"How long is Almost-Perfect Investment Guid?\"\n",
    "]"
   ]
  },
  {
   "cell_type": "code",
   "execution_count": 12,
   "id": "146f2490",
   "metadata": {},
   "outputs": [],
   "source": [
    "eval_answers = [\n",
    "    \"Underwhelming Spatula is a kitchen tool that redefines expectations by fusing whimsy with functionality.\",\n",
    "    \"The book 'Dubious Parenting Tips' was written by Lisa Melton\",\n",
    "    \"The 'Almost-Perfect Investment Guide' is 120 pages long.\"\n",
    "]"
   ]
  },
  {
   "cell_type": "code",
   "execution_count": 13,
   "id": "f2bac982",
   "metadata": {},
   "outputs": [],
   "source": [
    "def send_to_openai(message):\n",
    "    completion = openai.chat.completions.create(\n",
    "        model=\"gpt-4o-mini\",\n",
    "        messages=[{\"role\": \"user\", \"content\": message}],\n",
    "    )\n",
    "    return completion.choices[0].message.content.strip() # type: ignore\n"
   ]
  },
  {
   "cell_type": "code",
   "execution_count": 16,
   "id": "879530dd",
   "metadata": {},
   "outputs": [],
   "source": [
    "def evaluate_generated_answer(\n",
    "        expected_answer,\n",
    "        generated_answer): \n",
    "    prompt = f\"\"\"Please evaluate the generated answer.\n",
    "    If the generated answer provides the same information as the expected answer,\n",
    "    then return PASS. Otherwise, return FAIL.\n",
    "    Expected Answer: {expected_answer}\n",
    "    Generated Answer: {generated_answer}\n",
    "    \"\"\"\n",
    "    return send_to_openai(prompt)"
   ]
  },
  {
   "cell_type": "code",
   "execution_count": 17,
   "id": "8553945d",
   "metadata": {},
   "outputs": [],
   "source": [
    "response = send_to_openai(\"What is Underwhelming Spatula?\")"
   ]
  },
  {
   "cell_type": "code",
   "execution_count": 18,
   "id": "b250a373",
   "metadata": {},
   "outputs": [
    {
     "data": {
      "text/plain": [
       "'The Underwhelming Spatula is a unique item from the game \"The Binding of Isaac: Repentance.\" Within the game, it is designed as a humorous take on power-ups. When Isaac picks up the Underwhelming Spatula, he can unlock new abilities or effects, but the overall impact is relatively minor compared to many other power-ups in the game.\\n\\nThe item exemplifies the game\\'s blend of dark humor and whimsical design, often presenting items that have quirky or unexpected effects. Players often find that the Underwhelming Spatula is amusing due to its name and the concept of it being underwhelming, despite being a collectible.\\n\\nIf you have further questions or need more specifics about its effects or how it interacts with other items, feel free to ask!'"
      ]
     },
     "execution_count": 18,
     "metadata": {},
     "output_type": "execute_result"
    }
   ],
   "source": [
    "response"
   ]
  },
  {
   "cell_type": "code",
   "execution_count": null,
   "id": "b68ebc20",
   "metadata": {},
   "outputs": [],
   "source": []
  }
 ],
 "metadata": {
  "kernelspec": {
   "display_name": "Python 3 (ipykernel)",
   "language": "python",
   "name": "python3"
  },
  "language_info": {
   "codemirror_mode": {
    "name": "ipython",
    "version": 3
   },
   "file_extension": ".py",
   "mimetype": "text/x-python",
   "name": "python",
   "nbconvert_exporter": "python",
   "pygments_lexer": "ipython3",
   "version": "3.12.11"
  }
 },
 "nbformat": 4,
 "nbformat_minor": 5
}
