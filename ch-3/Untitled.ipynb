{
 "cells": [
  {
   "cell_type": "code",
   "execution_count": 4,
   "id": "663e7305-7fa1-478c-b2a3-6441fc52d973",
   "metadata": {},
   "outputs": [
    {
     "name": "stdout",
     "output_type": "stream",
     "text": [
      "1\n"
     ]
    }
   ],
   "source": [
    "blob_name = \"3445552/1.txt\"\n",
    "pageNumber = int(blob_name.split(\"/\")[-1].split(\".\")[0])\n",
    "print(pageNumber)\n"
   ]
  },
  {
   "cell_type": "code",
   "execution_count": null,
   "id": "462e3e77-3fd2-4cae-af04-111acc5850a6",
   "metadata": {},
   "outputs": [],
   "source": []
  }
 ],
 "metadata": {
  "kernelspec": {
   "display_name": "Python 3 (ipykernel)",
   "language": "python",
   "name": "python3"
  },
  "language_info": {
   "codemirror_mode": {
    "name": "ipython",
    "version": 3
   },
   "file_extension": ".py",
   "mimetype": "text/x-python",
   "name": "python",
   "nbconvert_exporter": "python",
   "pygments_lexer": "ipython3",
   "version": "3.12.11"
  }
 },
 "nbformat": 4,
 "nbformat_minor": 5
}
